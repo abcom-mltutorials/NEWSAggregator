{
  "nbformat": 4,
  "nbformat_minor": 0,
  "metadata": {
    "accelerator": "GPU",
    "colab": {
      "name": "NEWSAggregator.ipynb",
      "provenance": [],
      "collapsed_sections": []
    },
    "kernelspec": {
      "display_name": "Python 3",
      "language": "python",
      "name": "python3"
    },
    "language_info": {
      "codemirror_mode": {
        "name": "ipython",
        "version": 3
      },
      "file_extension": ".py",
      "mimetype": "text/x-python",
      "name": "python",
      "nbconvert_exporter": "python",
      "pygments_lexer": "ipython3",
      "version": "3.6.8"
    }
  },
  "cells": [
    {
      "cell_type": "markdown",
      "metadata": {
        "id": "wRM4Yt3df4kf",
        "colab_type": "text"
      },
      "source": [
        "# NEWS Aggregator"
      ]
    },
    {
      "cell_type": "markdown",
      "metadata": {
        "id": "L7DY05P6Id-3",
        "colab_type": "text"
      },
      "source": [
        "Copyright @ 2020 **ABCOM Information Systems Pvt. Ltd.** All Rights Reserved.\n",
        "\n",
        "Licensed under the Apache License, Version 2.0 (the \"License\"); you may not use this file except in compliance with the License. You may obtain a copy of the License at\n",
        "\n",
        "http://www.apache.org/licenses/LICENSE-2.0\n",
        "\n",
        "Unless required by applicable law or agreed to in writing, software distributed under the License is distributed on an \"AS IS\" BASIS, WITHOUT WARRANTIES OR CONDITIONS OF ANY KIND, either express or implied.\n",
        "\n",
        "See the License for the specific language governing permissions and limitations under the License.\n",
        "\n",
        "# ==================================================================="
      ]
    },
    {
      "cell_type": "markdown",
      "metadata": {
        "colab_type": "text",
        "id": "q4gSqDnOaJ7W"
      },
      "source": [
        "\n",
        "### Named Entity Recognition (NER) using LSTMs"
      ]
    },
    {
      "cell_type": "code",
      "metadata": {
        "colab_type": "code",
        "id": "oLK7Y1jiNXDa",
        "colab": {}
      },
      "source": [
        "%matplotlib inline\n",
        "import matplotlib.pyplot as plt\n",
        "import pandas as pd\n",
        "import numpy as np\n",
        "import tensorflow as tf\n",
        "from tensorflow.keras.preprocessing.sequence import pad_sequences\n",
        "from tensorflow.keras.utils import to_categorical\n",
        "from sklearn.model_selection import train_test_split\n",
        "from tensorflow.keras import Model, Input\n",
        "from tensorflow.keras.layers import LSTM, Embedding, Dense\n",
        "from tensorflow.keras.layers import TimeDistributed, SpatialDropout1D, Bidirectional\n",
        "from tensorflow.keras.callbacks import ModelCheckpoint, EarlyStopping"
      ],
      "execution_count": null,
      "outputs": []
    },
    {
      "cell_type": "markdown",
      "metadata": {
        "id": "b_sGGN9Ygjo6",
        "colab_type": "text"
      },
      "source": [
        "# Loading data"
      ]
    },
    {
      "cell_type": "code",
      "metadata": {
        "colab_type": "code",
        "id": "mCKmz4SAbI_m",
        "colab": {
          "base_uri": "https://localhost:8080/",
          "height": 201
        },
        "outputId": "767cbef2-7565-4aab-d9e1-36a783fec931"
      },
      "source": [
        "data=pd.read_csv('https://raw.githubusercontent.com/abcom-mltutorials/NEWSAggregator/master/ner_dataset.csv',encoding='latin1')\n",
        "data=data.fillna(method=\"ffill\")\n",
        "data.head()"
      ],
      "execution_count": null,
      "outputs": [
        {
          "output_type": "execute_result",
          "data": {
            "text/html": [
              "<div>\n",
              "<style scoped>\n",
              "    .dataframe tbody tr th:only-of-type {\n",
              "        vertical-align: middle;\n",
              "    }\n",
              "\n",
              "    .dataframe tbody tr th {\n",
              "        vertical-align: top;\n",
              "    }\n",
              "\n",
              "    .dataframe thead th {\n",
              "        text-align: right;\n",
              "    }\n",
              "</style>\n",
              "<table border=\"1\" class=\"dataframe\">\n",
              "  <thead>\n",
              "    <tr style=\"text-align: right;\">\n",
              "      <th></th>\n",
              "      <th>Sentence #</th>\n",
              "      <th>Word</th>\n",
              "      <th>POS</th>\n",
              "      <th>Tag</th>\n",
              "    </tr>\n",
              "  </thead>\n",
              "  <tbody>\n",
              "    <tr>\n",
              "      <th>0</th>\n",
              "      <td>Sentence: 1</td>\n",
              "      <td>Thousands</td>\n",
              "      <td>NNS</td>\n",
              "      <td>O</td>\n",
              "    </tr>\n",
              "    <tr>\n",
              "      <th>1</th>\n",
              "      <td>Sentence: 1</td>\n",
              "      <td>of</td>\n",
              "      <td>IN</td>\n",
              "      <td>O</td>\n",
              "    </tr>\n",
              "    <tr>\n",
              "      <th>2</th>\n",
              "      <td>Sentence: 1</td>\n",
              "      <td>demonstrators</td>\n",
              "      <td>NNS</td>\n",
              "      <td>O</td>\n",
              "    </tr>\n",
              "    <tr>\n",
              "      <th>3</th>\n",
              "      <td>Sentence: 1</td>\n",
              "      <td>have</td>\n",
              "      <td>VBP</td>\n",
              "      <td>O</td>\n",
              "    </tr>\n",
              "    <tr>\n",
              "      <th>4</th>\n",
              "      <td>Sentence: 1</td>\n",
              "      <td>marched</td>\n",
              "      <td>VBN</td>\n",
              "      <td>O</td>\n",
              "    </tr>\n",
              "  </tbody>\n",
              "</table>\n",
              "</div>"
            ],
            "text/plain": [
              "    Sentence #           Word  POS Tag\n",
              "0  Sentence: 1      Thousands  NNS   O\n",
              "1  Sentence: 1             of   IN   O\n",
              "2  Sentence: 1  demonstrators  NNS   O\n",
              "3  Sentence: 1           have  VBP   O\n",
              "4  Sentence: 1        marched  VBN   O"
            ]
          },
          "metadata": {
            "tags": []
          },
          "execution_count": 4
        }
      ]
    },
    {
      "cell_type": "code",
      "metadata": {
        "id": "wWXKkSs8zATx",
        "colab_type": "code",
        "colab": {
          "base_uri": "https://localhost:8080/",
          "height": 68
        },
        "outputId": "1946d3bb-7d9a-40a7-ec98-01d67262ad44"
      },
      "source": [
        "data.Tag.unique()"
      ],
      "execution_count": null,
      "outputs": [
        {
          "output_type": "execute_result",
          "data": {
            "text/plain": [
              "array(['O', 'B-geo', 'B-gpe', 'B-per', 'I-geo', 'B-org', 'I-org', 'B-tim',\n",
              "       'B-art', 'I-art', 'I-per', 'I-gpe', 'I-tim', 'B-nat', 'B-eve',\n",
              "       'I-eve', 'I-nat'], dtype=object)"
            ]
          },
          "metadata": {
            "tags": []
          },
          "execution_count": 3
        }
      ]
    },
    {
      "cell_type": "code",
      "metadata": {
        "id": "Fv-bPQG5Rftm",
        "colab_type": "code",
        "colab": {}
      },
      "source": [
        "data.columns=['sentence',\"Word\",'POS',\"Tag\"]"
      ],
      "execution_count": null,
      "outputs": []
    },
    {
      "cell_type": "code",
      "metadata": {
        "id": "qfZl3A4_SJxI",
        "colab_type": "code",
        "colab": {
          "base_uri": "https://localhost:8080/",
          "height": 54
        },
        "outputId": "41ed0947-8485-4ec9-b33d-f39b80d5ab27"
      },
      "source": [
        "print(\"Sentence #2:\",\" \".join(data[data.sentence=='Sentence: 2'].Word.tolist()))"
      ],
      "execution_count": null,
      "outputs": [
        {
          "output_type": "stream",
          "text": [
            "Sentence #2: Families of soldiers killed in the conflict joined the protesters who carried banners with such slogans as \" Bush Number One Terrorist \" and \" Stop the Bombings . \"\n"
          ],
          "name": "stdout"
        }
      ]
    },
    {
      "cell_type": "code",
      "metadata": {
        "id": "sYB6cwYqtmbd",
        "colab_type": "code",
        "colab": {
          "base_uri": "https://localhost:8080/",
          "height": 54
        },
        "outputId": "62984e3b-dec3-4e6b-d2e2-a4b8c0eb7ade"
      },
      "source": [
        "print(\"Sentence #5:\",\" \".join(data[data.sentence=='Sentence: 5'].Word.tolist()))"
      ],
      "execution_count": null,
      "outputs": [
        {
          "output_type": "stream",
          "text": [
            "Sentence #5: The protest comes on the eve of the annual conference of Britain 's ruling Labor Party in the southern English seaside resort of Brighton .\n"
          ],
          "name": "stdout"
        }
      ]
    },
    {
      "cell_type": "code",
      "metadata": {
        "id": "4VBAgDDuIyAl",
        "colab_type": "code",
        "colab": {
          "base_uri": "https://localhost:8080/",
          "height": 51
        },
        "outputId": "5709c8ed-748f-4ae3-e670-351fb98b05a1"
      },
      "source": [
        "words=list(set(data[\"Word\"].values))\n",
        "words.append(\"ENDPAD\") #end padding to make the sentences equal length\n",
        "num_words=len(words)\n",
        "tags=list(set(data[\"Tag\"].values))\n",
        "num_tags=len(tags)\n",
        "print (\"Number of unique words: \", num_words)\n",
        "print (\"Number of unique tags: \", num_tags)"
      ],
      "execution_count": null,
      "outputs": [
        {
          "output_type": "stream",
          "text": [
            "Number of unique words:  35179\n",
            "Number of unique tags:  17\n"
          ],
          "name": "stdout"
        }
      ]
    },
    {
      "cell_type": "markdown",
      "metadata": {
        "colab_type": "text",
        "id": "M9D9JEzUbdnS"
      },
      "source": [
        "### Preparing data\n",
        "\n",
        "w is word\n",
        "\n",
        "p is part of speech\n",
        "\n",
        "t is tag\n",
        "\n",
        "Each sentence is a list of tuples."
      ]
    },
    {
      "cell_type": "code",
      "metadata": {
        "id": "cEBiJttywNtR",
        "colab_type": "code",
        "colab": {}
      },
      "source": [
        "def sentencegetter(data):\n",
        "  agg_func=lambda s:[(w,p,t) for w,p,t in zip(s[\"Word\"].values.tolist(),s[\"POS\"].values.tolist(),s['Tag'].values.tolist())]\n",
        "  grouped=data.groupby(\"sentence\").apply(agg_func)\n",
        "  sentences=[s for s in grouped]\n",
        "  return sentences"
      ],
      "execution_count": null,
      "outputs": []
    },
    {
      "cell_type": "code",
      "metadata": {
        "colab_type": "code",
        "id": "nMUQLppspkPj",
        "colab": {}
      },
      "source": [
        "sentences=sentencegetter(data)"
      ],
      "execution_count": null,
      "outputs": []
    },
    {
      "cell_type": "code",
      "metadata": {
        "colab_type": "code",
        "id": "GhiSTt2UdzYC",
        "colab": {
          "base_uri": "https://localhost:8080/",
          "height": 425
        },
        "outputId": "5b2bc4d4-54aa-4fe8-a4fa-c575fdd8dd8c"
      },
      "source": [
        "sentences[0] "
      ],
      "execution_count": null,
      "outputs": [
        {
          "output_type": "execute_result",
          "data": {
            "text/plain": [
              "[('Thousands', 'NNS', 'O'),\n",
              " ('of', 'IN', 'O'),\n",
              " ('demonstrators', 'NNS', 'O'),\n",
              " ('have', 'VBP', 'O'),\n",
              " ('marched', 'VBN', 'O'),\n",
              " ('through', 'IN', 'O'),\n",
              " ('London', 'NNP', 'B-geo'),\n",
              " ('to', 'TO', 'O'),\n",
              " ('protest', 'VB', 'O'),\n",
              " ('the', 'DT', 'O'),\n",
              " ('war', 'NN', 'O'),\n",
              " ('in', 'IN', 'O'),\n",
              " ('Iraq', 'NNP', 'B-geo'),\n",
              " ('and', 'CC', 'O'),\n",
              " ('demand', 'VB', 'O'),\n",
              " ('the', 'DT', 'O'),\n",
              " ('withdrawal', 'NN', 'O'),\n",
              " ('of', 'IN', 'O'),\n",
              " ('British', 'JJ', 'B-gpe'),\n",
              " ('troops', 'NNS', 'O'),\n",
              " ('from', 'IN', 'O'),\n",
              " ('that', 'DT', 'O'),\n",
              " ('country', 'NN', 'O'),\n",
              " ('.', '.', 'O')]"
            ]
          },
          "metadata": {
            "tags": []
          },
          "execution_count": 10
        }
      ]
    },
    {
      "cell_type": "code",
      "metadata": {
        "id": "56JtEmv-MOL4",
        "colab_type": "code",
        "colab": {
          "base_uri": "https://localhost:8080/",
          "height": 442
        },
        "outputId": "7cbc76d7-1e82-4a9f-9fe8-ed0a876e8e1a"
      },
      "source": [
        "sentences[1]"
      ],
      "execution_count": null,
      "outputs": [
        {
          "output_type": "execute_result",
          "data": {
            "text/plain": [
              "[('Iranian', 'JJ', 'B-gpe'),\n",
              " ('officials', 'NNS', 'O'),\n",
              " ('say', 'VBP', 'O'),\n",
              " ('they', 'PRP', 'O'),\n",
              " ('expect', 'VBP', 'O'),\n",
              " ('to', 'TO', 'O'),\n",
              " ('get', 'VB', 'O'),\n",
              " ('access', 'NN', 'O'),\n",
              " ('to', 'TO', 'O'),\n",
              " ('sealed', 'JJ', 'O'),\n",
              " ('sensitive', 'JJ', 'O'),\n",
              " ('parts', 'NNS', 'O'),\n",
              " ('of', 'IN', 'O'),\n",
              " ('the', 'DT', 'O'),\n",
              " ('plant', 'NN', 'O'),\n",
              " ('Wednesday', 'NNP', 'B-tim'),\n",
              " (',', ',', 'O'),\n",
              " ('after', 'IN', 'O'),\n",
              " ('an', 'DT', 'O'),\n",
              " ('IAEA', 'NNP', 'B-org'),\n",
              " ('surveillance', 'NN', 'O'),\n",
              " ('system', 'NN', 'O'),\n",
              " ('begins', 'VBZ', 'O'),\n",
              " ('functioning', 'VBG', 'O'),\n",
              " ('.', '.', 'O')]"
            ]
          },
          "metadata": {
            "tags": []
          },
          "execution_count": 11
        }
      ]
    },
    {
      "cell_type": "markdown",
      "metadata": {
        "colab_type": "text",
        "id": "ldhuogX4eHE4"
      },
      "source": [
        "## Indexing words and tags\n"
      ]
    },
    {
      "cell_type": "code",
      "metadata": {
        "colab_type": "code",
        "id": "SvENHO18pkaQ",
        "colab": {}
      },
      "source": [
        "word2idx={w:i+1 for i , w in enumerate(words)} #i+1 as we created endpad \n",
        "tag2idx={t:i for i,t in enumerate(tags)}"
      ],
      "execution_count": null,
      "outputs": []
    },
    {
      "cell_type": "code",
      "metadata": {
        "id": "VNmJNEmzIyBB",
        "colab_type": "code",
        "colab": {
          "base_uri": "https://localhost:8080/",
          "height": 306
        },
        "outputId": "e0b27643-0245-45cc-f40c-a3bac95bdde7"
      },
      "source": [
        "tag2idx"
      ],
      "execution_count": null,
      "outputs": [
        {
          "output_type": "execute_result",
          "data": {
            "text/plain": [
              "{'B-art': 7,\n",
              " 'B-eve': 6,\n",
              " 'B-geo': 10,\n",
              " 'B-gpe': 12,\n",
              " 'B-nat': 15,\n",
              " 'B-org': 13,\n",
              " 'B-per': 14,\n",
              " 'B-tim': 9,\n",
              " 'I-art': 1,\n",
              " 'I-eve': 0,\n",
              " 'I-geo': 3,\n",
              " 'I-gpe': 5,\n",
              " 'I-nat': 4,\n",
              " 'I-org': 16,\n",
              " 'I-per': 11,\n",
              " 'I-tim': 8,\n",
              " 'O': 2}"
            ]
          },
          "metadata": {
            "tags": []
          },
          "execution_count": 13
        }
      ]
    },
    {
      "cell_type": "markdown",
      "metadata": {
        "colab_type": "text",
        "id": "zXzE0MdsemCH"
      },
      "source": [
        "## Padding input sequences"
      ]
    },
    {
      "cell_type": "markdown",
      "metadata": {
        "id": "mP82EkAktWuN",
        "colab_type": "text"
      },
      "source": [
        "### Sentence length distribution"
      ]
    },
    {
      "cell_type": "code",
      "metadata": {
        "colab_type": "code",
        "id": "R44g5T7NYp_H",
        "colab": {
          "base_uri": "https://localhost:8080/",
          "height": 265
        },
        "outputId": "30b2f584-c644-495d-f3f3-23a0401889dc"
      },
      "source": [
        "#histogram of length of sentences\n",
        "plt.hist([len(s) for s in sentences],bins=50) \n",
        "plt.show()"
      ],
      "execution_count": null,
      "outputs": [
        {
          "output_type": "display_data",
          "data": {
            "image/png": "[encoded data removed]",
            "text/plain": [
              "<Figure size 432x288 with 1 Axes>"
            ]
          },
          "metadata": {
            "tags": [],
            "needs_background": "light"
          }
        }
      ]
    },
    {
      "cell_type": "markdown",
      "metadata": {
        "id": "dsNic1TFaqgt",
        "colab_type": "text"
      },
      "source": [
        "### Replacing text with index and padding to 50 length."
      ]
    },
    {
      "cell_type": "code",
      "metadata": {
        "colab_type": "code",
        "id": "FS4u3CRkpkc1",
        "colab": {}
      },
      "source": [
        "max_len= 50\n",
        "X= [[word2idx[w[0]] for w in s ] for s in sentences]\n",
        "X=pad_sequences(maxlen=max_len,sequences=X,padding=\"post\", value=num_words-1)"
      ],
      "execution_count": null,
      "outputs": []
    },
    {
      "cell_type": "code",
      "metadata": {
        "id": "27ymo8dcximr",
        "colab_type": "code",
        "colab": {
          "base_uri": "https://localhost:8080/",
          "height": 119
        },
        "outputId": "6579dff2-9b96-4f2c-fc19-9f63aa137ea2"
      },
      "source": [
        "X[1]"
      ],
      "execution_count": null,
      "outputs": [
        {
          "output_type": "execute_result",
          "data": {
            "text/plain": [
              "array([33955, 26985, 30223,  4857, 29087, 26669, 32840, 11280, 26669,\n",
              "       20078, 32757, 11965, 26941, 29085,  1467,  5693, 10897, 32156,\n",
              "       30169, 10405, 27874, 13521, 16014, 29107, 18156, 35178, 35178,\n",
              "       35178, 35178, 35178, 35178, 35178, 35178, 35178, 35178, 35178,\n",
              "       35178, 35178, 35178, 35178, 35178, 35178, 35178, 35178, 35178,\n",
              "       35178, 35178, 35178, 35178, 35178], dtype=int32)"
            ]
          },
          "metadata": {
            "tags": []
          },
          "execution_count": 16
        }
      ]
    },
    {
      "cell_type": "code",
      "metadata": {
        "id": "yHalJJoDcg-3",
        "colab_type": "code",
        "colab": {}
      },
      "source": [
        "#target vector\n",
        "y=[[tag2idx[w[2]] for w in s ] for s in sentences]\n",
        "y=pad_sequences(maxlen=max_len,sequences=y,padding=\"post\",value=tag2idx[\"O\"])\n",
        "y=[to_categorical(i,num_classes=num_tags) for i in y] #one hot encoding the target tag"
      ],
      "execution_count": null,
      "outputs": []
    },
    {
      "cell_type": "code",
      "metadata": {
        "id": "kvfZo0oIxyvL",
        "colab_type": "code",
        "colab": {
          "base_uri": "https://localhost:8080/",
          "height": 1000
        },
        "outputId": "2c3d0d59-3c24-4f0c-8a58-da6f7e2950eb"
      },
      "source": [
        "y[0]"
      ],
      "execution_count": null,
      "outputs": [
        {
          "output_type": "execute_result",
          "data": {
            "text/plain": [
              "array([[0., 0., 1., 0., 0., 0., 0., 0., 0., 0., 0., 0., 0., 0., 0., 0.,\n",
              "        0.],\n",
              "       [0., 0., 1., 0., 0., 0., 0., 0., 0., 0., 0., 0., 0., 0., 0., 0.,\n",
              "        0.],\n",
              "       [0., 0., 1., 0., 0., 0., 0., 0., 0., 0., 0., 0., 0., 0., 0., 0.,\n",
              "        0.],\n",
              "       [0., 0., 1., 0., 0., 0., 0., 0., 0., 0., 0., 0., 0., 0., 0., 0.,\n",
              "        0.],\n",
              "       [0., 0., 1., 0., 0., 0., 0., 0., 0., 0., 0., 0., 0., 0., 0., 0.,\n",
              "        0.],\n",
              "       [0., 0., 1., 0., 0., 0., 0., 0., 0., 0., 0., 0., 0., 0., 0., 0.,\n",
              "        0.],\n",
              "       [0., 0., 0., 0., 0., 0., 0., 0., 0., 0., 1., 0., 0., 0., 0., 0.,\n",
              "        0.],\n",
              "       [0., 0., 1., 0., 0., 0., 0., 0., 0., 0., 0., 0., 0., 0., 0., 0.,\n",
              "        0.],\n",
              "       [0., 0., 1., 0., 0., 0., 0., 0., 0., 0., 0., 0., 0., 0., 0., 0.,\n",
              "        0.],\n",
              "       [0., 0., 1., 0., 0., 0., 0., 0., 0., 0., 0., 0., 0., 0., 0., 0.,\n",
              "        0.],\n",
              "       [0., 0., 1., 0., 0., 0., 0., 0., 0., 0., 0., 0., 0., 0., 0., 0.,\n",
              "        0.],\n",
              "       [0., 0., 1., 0., 0., 0., 0., 0., 0., 0., 0., 0., 0., 0., 0., 0.,\n",
              "        0.],\n",
              "       [0., 0., 0., 0., 0., 0., 0., 0., 0., 0., 1., 0., 0., 0., 0., 0.,\n",
              "        0.],\n",
              "       [0., 0., 1., 0., 0., 0., 0., 0., 0., 0., 0., 0., 0., 0., 0., 0.,\n",
              "        0.],\n",
              "       [0., 0., 1., 0., 0., 0., 0., 0., 0., 0., 0., 0., 0., 0., 0., 0.,\n",
              "        0.],\n",
              "       [0., 0., 1., 0., 0., 0., 0., 0., 0., 0., 0., 0., 0., 0., 0., 0.,\n",
              "        0.],\n",
              "       [0., 0., 1., 0., 0., 0., 0., 0., 0., 0., 0., 0., 0., 0., 0., 0.,\n",
              "        0.],\n",
              "       [0., 0., 1., 0., 0., 0., 0., 0., 0., 0., 0., 0., 0., 0., 0., 0.,\n",
              "        0.],\n",
              "       [0., 0., 0., 0., 0., 0., 0., 0., 0., 0., 0., 0., 1., 0., 0., 0.,\n",
              "        0.],\n",
              "       [0., 0., 1., 0., 0., 0., 0., 0., 0., 0., 0., 0., 0., 0., 0., 0.,\n",
              "        0.],\n",
              "       [0., 0., 1., 0., 0., 0., 0., 0., 0., 0., 0., 0., 0., 0., 0., 0.,\n",
              "        0.],\n",
              "       [0., 0., 1., 0., 0., 0., 0., 0., 0., 0., 0., 0., 0., 0., 0., 0.,\n",
              "        0.],\n",
              "       [0., 0., 1., 0., 0., 0., 0., 0., 0., 0., 0., 0., 0., 0., 0., 0.,\n",
              "        0.],\n",
              "       [0., 0., 1., 0., 0., 0., 0., 0., 0., 0., 0., 0., 0., 0., 0., 0.,\n",
              "        0.],\n",
              "       [0., 0., 1., 0., 0., 0., 0., 0., 0., 0., 0., 0., 0., 0., 0., 0.,\n",
              "        0.],\n",
              "       [0., 0., 1., 0., 0., 0., 0., 0., 0., 0., 0., 0., 0., 0., 0., 0.,\n",
              "        0.],\n",
              "       [0., 0., 1., 0., 0., 0., 0., 0., 0., 0., 0., 0., 0., 0., 0., 0.,\n",
              "        0.],\n",
              "       [0., 0., 1., 0., 0., 0., 0., 0., 0., 0., 0., 0., 0., 0., 0., 0.,\n",
              "        0.],\n",
              "       [0., 0., 1., 0., 0., 0., 0., 0., 0., 0., 0., 0., 0., 0., 0., 0.,\n",
              "        0.],\n",
              "       [0., 0., 1., 0., 0., 0., 0., 0., 0., 0., 0., 0., 0., 0., 0., 0.,\n",
              "        0.],\n",
              "       [0., 0., 1., 0., 0., 0., 0., 0., 0., 0., 0., 0., 0., 0., 0., 0.,\n",
              "        0.],\n",
              "       [0., 0., 1., 0., 0., 0., 0., 0., 0., 0., 0., 0., 0., 0., 0., 0.,\n",
              "        0.],\n",
              "       [0., 0., 1., 0., 0., 0., 0., 0., 0., 0., 0., 0., 0., 0., 0., 0.,\n",
              "        0.],\n",
              "       [0., 0., 1., 0., 0., 0., 0., 0., 0., 0., 0., 0., 0., 0., 0., 0.,\n",
              "        0.],\n",
              "       [0., 0., 1., 0., 0., 0., 0., 0., 0., 0., 0., 0., 0., 0., 0., 0.,\n",
              "        0.],\n",
              "       [0., 0., 1., 0., 0., 0., 0., 0., 0., 0., 0., 0., 0., 0., 0., 0.,\n",
              "        0.],\n",
              "       [0., 0., 1., 0., 0., 0., 0., 0., 0., 0., 0., 0., 0., 0., 0., 0.,\n",
              "        0.],\n",
              "       [0., 0., 1., 0., 0., 0., 0., 0., 0., 0., 0., 0., 0., 0., 0., 0.,\n",
              "        0.],\n",
              "       [0., 0., 1., 0., 0., 0., 0., 0., 0., 0., 0., 0., 0., 0., 0., 0.,\n",
              "        0.],\n",
              "       [0., 0., 1., 0., 0., 0., 0., 0., 0., 0., 0., 0., 0., 0., 0., 0.,\n",
              "        0.],\n",
              "       [0., 0., 1., 0., 0., 0., 0., 0., 0., 0., 0., 0., 0., 0., 0., 0.,\n",
              "        0.],\n",
              "       [0., 0., 1., 0., 0., 0., 0., 0., 0., 0., 0., 0., 0., 0., 0., 0.,\n",
              "        0.],\n",
              "       [0., 0., 1., 0., 0., 0., 0., 0., 0., 0., 0., 0., 0., 0., 0., 0.,\n",
              "        0.],\n",
              "       [0., 0., 1., 0., 0., 0., 0., 0., 0., 0., 0., 0., 0., 0., 0., 0.,\n",
              "        0.],\n",
              "       [0., 0., 1., 0., 0., 0., 0., 0., 0., 0., 0., 0., 0., 0., 0., 0.,\n",
              "        0.],\n",
              "       [0., 0., 1., 0., 0., 0., 0., 0., 0., 0., 0., 0., 0., 0., 0., 0.,\n",
              "        0.],\n",
              "       [0., 0., 1., 0., 0., 0., 0., 0., 0., 0., 0., 0., 0., 0., 0., 0.,\n",
              "        0.],\n",
              "       [0., 0., 1., 0., 0., 0., 0., 0., 0., 0., 0., 0., 0., 0., 0., 0.,\n",
              "        0.],\n",
              "       [0., 0., 1., 0., 0., 0., 0., 0., 0., 0., 0., 0., 0., 0., 0., 0.,\n",
              "        0.],\n",
              "       [0., 0., 1., 0., 0., 0., 0., 0., 0., 0., 0., 0., 0., 0., 0., 0.,\n",
              "        0.]], dtype=float32)"
            ]
          },
          "metadata": {
            "tags": []
          },
          "execution_count": 18
        }
      ]
    },
    {
      "cell_type": "markdown",
      "metadata": {
        "id": "qawvMFPi0zAv",
        "colab_type": "text"
      },
      "source": [
        "# Creating training/testing datasets"
      ]
    },
    {
      "cell_type": "code",
      "metadata": {
        "id": "daigoDq4IyBQ",
        "colab_type": "code",
        "colab": {}
      },
      "source": [
        "xtrain,xtest,ytrain,ytest=train_test_split(X,y,test_size=0.1,random_state=1)"
      ],
      "execution_count": null,
      "outputs": []
    },
    {
      "cell_type": "markdown",
      "metadata": {
        "colab_type": "text",
        "id": "P-r4PR85hpoF"
      },
      "source": [
        "# Model building"
      ]
    },
    {
      "cell_type": "code",
      "metadata": {
        "colab_type": "code",
        "id": "Aee3mCZ3pkkv",
        "colab": {
          "base_uri": "https://localhost:8080/",
          "height": 394
        },
        "outputId": "f31fdf7f-2bb8-48c3-c826-b98a79d6ca17"
      },
      "source": [
        "input_word=Input(shape=(max_len,)) #input layer\n",
        "model=Embedding(input_dim=num_words,output_dim=max_len,input_length=max_len)(input_word)\n",
        "model= SpatialDropout1D(0.1)(model) #regularization\n",
        "# bidirectional for learning across the entire sequence\n",
        "model=Bidirectional(LSTM(units=100,return_sequences=True,recurrent_dropout=0.1))(model) \n",
        "out=TimeDistributed(Dense(num_tags,activation=\"softmax\"))(model)\n",
        "model=Model(input_word,out)\n",
        "model.summary()"
      ],
      "execution_count": null,
      "outputs": [
        {
          "output_type": "stream",
          "text": [
            "WARNING:tensorflow:Layer lstm will not use cuDNN kernel since it doesn't meet the cuDNN kernel criteria. It will use generic GPU kernel as fallback when running on GPU\n",
            "WARNING:tensorflow:Layer lstm will not use cuDNN kernel since it doesn't meet the cuDNN kernel criteria. It will use generic GPU kernel as fallback when running on GPU\n",
            "WARNING:tensorflow:Layer lstm will not use cuDNN kernel since it doesn't meet the cuDNN kernel criteria. It will use generic GPU kernel as fallback when running on GPU\n",
            "Model: \"model\"\n",
            "_________________________________________________________________\n",
            "Layer (type)                 Output Shape              Param #   \n",
            "=================================================================\n",
            "input_1 (InputLayer)         [(None, 50)]              0         \n",
            "_________________________________________________________________\n",
            "embedding (Embedding)        (None, 50, 50)            1758950   \n",
            "_________________________________________________________________\n",
            "spatial_dropout1d (SpatialDr (None, 50, 50)            0         \n",
            "_________________________________________________________________\n",
            "bidirectional (Bidirectional (None, 50, 200)           120800    \n",
            "_________________________________________________________________\n",
            "time_distributed (TimeDistri (None, 50, 17)            3417      \n",
            "=================================================================\n",
            "Total params: 1,883,167\n",
            "Trainable params: 1,883,167\n",
            "Non-trainable params: 0\n",
            "_________________________________________________________________\n"
          ],
          "name": "stdout"
        }
      ]
    },
    {
      "cell_type": "markdown",
      "metadata": {
        "id": "MKX2vY0G6YV7",
        "colab_type": "text"
      },
      "source": [
        "# Model compiling"
      ]
    },
    {
      "cell_type": "code",
      "metadata": {
        "colab_type": "code",
        "id": "kOBpQg26pkqh",
        "colab": {}
      },
      "source": [
        "model.compile(optimizer=\"adam\",loss=\"categorical_crossentropy\",metrics=['accuracy'])"
      ],
      "execution_count": null,
      "outputs": []
    },
    {
      "cell_type": "markdown",
      "metadata": {
        "id": "ywG8iWvQ6rdB",
        "colab_type": "text"
      },
      "source": [
        "# Model training"
      ]
    },
    {
      "cell_type": "code",
      "metadata": {
        "colab_type": "code",
        "id": "Q9HWH06Ypkxh",
        "colab": {
          "base_uri": "https://localhost:8080/",
          "height": 187
        },
        "outputId": "09d3deca-3849-4910-c603-f37d2eededd3"
      },
      "source": [
        "early_stopping=EarlyStopping(monitor=\"val_accuracy\",patience=1,verbose=0,mode='max',restore_best_weights=False)\n",
        "callbacks=[early_stopping]\n",
        "history=model.fit(xtrain,np.array(ytrain),validation_split=0.2,batch_size=32,epochs=10,verbose=1,callbacks=callbacks)"
      ],
      "execution_count": null,
      "outputs": [
        {
          "output_type": "stream",
          "text": [
            "Epoch 1/10\n",
            "1080/1080 [==============================] - 327s 303ms/step - loss: 0.1934 - accuracy: 0.9562 - val_loss: 0.0694 - val_accuracy: 0.9803\n",
            "Epoch 2/10\n",
            "1080/1080 [==============================] - 327s 303ms/step - loss: 0.0530 - accuracy: 0.9845 - val_loss: 0.0511 - val_accuracy: 0.9846\n",
            "Epoch 3/10\n",
            "1080/1080 [==============================] - 325s 301ms/step - loss: 0.0380 - accuracy: 0.9885 - val_loss: 0.0464 - val_accuracy: 0.9859\n",
            "Epoch 4/10\n",
            "1080/1080 [==============================] - 332s 307ms/step - loss: 0.0312 - accuracy: 0.9903 - val_loss: 0.0470 - val_accuracy: 0.9860\n",
            "Epoch 5/10\n",
            "1080/1080 [==============================] - 327s 303ms/step - loss: 0.0271 - accuracy: 0.9914 - val_loss: 0.0481 - val_accuracy: 0.9860\n"
          ],
          "name": "stdout"
        }
      ]
    },
    {
      "cell_type": "markdown",
      "metadata": {
        "colab_type": "text",
        "id": "2nwnnF0ziU3B"
      },
      "source": [
        "# Model evaluation"
      ]
    },
    {
      "cell_type": "code",
      "metadata": {
        "colab_type": "code",
        "id": "6euqX7UHplG7",
        "colab": {
          "base_uri": "https://localhost:8080/",
          "height": 51
        },
        "outputId": "c09ca52a-d153-41f0-d146-775ee4330216"
      },
      "source": [
        "model.evaluate(xtest,np.array(ytest))"
      ],
      "execution_count": null,
      "outputs": [
        {
          "output_type": "stream",
          "text": [
            "150/150 [==============================] - 3s 23ms/step - loss: 0.0495 - accuracy: 0.9857\n"
          ],
          "name": "stdout"
        },
        {
          "output_type": "execute_result",
          "data": {
            "text/plain": [
              "[0.04953761771321297, 0.9856964349746704]"
            ]
          },
          "metadata": {
            "tags": []
          },
          "execution_count": 23
        }
      ]
    },
    {
      "cell_type": "markdown",
      "metadata": {
        "id": "so7E4blVfO4U",
        "colab_type": "text"
      },
      "source": [
        "# Inference"
      ]
    },
    {
      "cell_type": "code",
      "metadata": {
        "colab_type": "code",
        "id": "Tyg4mKOVplJ-",
        "colab": {
          "base_uri": "https://localhost:8080/",
          "height": 918
        },
        "outputId": "bd22ed8c-71ae-4f50-bac0-fe3750ceb45d"
      },
      "source": [
        "i =np.random.randint(0,xtest.shape[0]) #to take the rndom values from the test\n",
        "p=model.predict(np.array([xtest[i]]))\n",
        "p=np.argmax(p,axis=-1) \n",
        "\n",
        "y_true=np.argmax(np.array(ytest),axis=-1)[i]\n",
        "\n",
        "print(\"{:15}{:5}\\t {}\\n\".format(\"word\",\"True\",\"pred\"))\n",
        "print(\"-\"*30)\n",
        "\n",
        "for w,true,pred in zip(xtest[i],y_true,p[0]):\n",
        "    print(\"{:15}{}\\t{}\".format(words[w-1],tags[true],tags[pred]))"
      ],
      "execution_count": null,
      "outputs": [
        {
          "output_type": "stream",
          "text": [
            "word           True \t pred\n",
            "\n",
            "------------------------------\n",
            "Afghan         B-gpe\tB-gpe\n",
            "police         O\tO\n",
            "say            O\tO\n",
            "suspected      O\tO\n",
            "Taleban        B-org\tB-org\n",
            "fighters       O\tO\n",
            "have           O\tO\n",
            "killed         O\tO\n",
            "five           O\tO\n",
            "police         O\tO\n",
            "officers       O\tO\n",
            "in             O\tO\n",
            "an             O\tO\n",
            "ambush         O\tO\n",
            "in             O\tO\n",
            "southern       B-geo\tB-geo\n",
            "Afghanistan    I-geo\tB-geo\n",
            ".              O\tO\n",
            "Le             O\tO\n",
            "Le             O\tO\n",
            "Le             O\tO\n",
            "Le             O\tO\n",
            "Le             O\tO\n",
            "Le             O\tO\n",
            "Le             O\tO\n",
            "Le             O\tO\n",
            "Le             O\tO\n",
            "Le             O\tO\n",
            "Le             O\tO\n",
            "Le             O\tO\n",
            "Le             O\tO\n",
            "Le             O\tO\n",
            "Le             O\tO\n",
            "Le             O\tO\n",
            "Le             O\tO\n",
            "Le             O\tO\n",
            "Le             O\tO\n",
            "Le             O\tO\n",
            "Le             O\tO\n",
            "Le             O\tO\n",
            "Le             O\tO\n",
            "Le             O\tO\n",
            "Le             O\tO\n",
            "Le             O\tO\n",
            "Le             O\tO\n",
            "Le             O\tO\n",
            "Le             O\tO\n",
            "Le             O\tO\n",
            "Le             O\tO\n",
            "Le             O\tO\n"
          ],
          "name": "stdout"
        }
      ]
    },
    {
      "cell_type": "markdown",
      "metadata": {
        "id": "hS2KGxnYfT4C",
        "colab_type": "text"
      },
      "source": [
        "# Predicting on an unseen sentence"
      ]
    },
    {
      "cell_type": "code",
      "metadata": {
        "id": "0RuhxHD_p7J7",
        "colab_type": "code",
        "colab": {}
      },
      "source": [
        "sentence=\"About 1,500 doctors , scientists and health workers are expected to attend the week-long Pan-Africa malaria conference in Cameroon 's capital , Yaounde \""
      ],
      "execution_count": null,
      "outputs": []
    },
    {
      "cell_type": "markdown",
      "metadata": {
        "id": "WDrPD8LisEGa",
        "colab_type": "text"
      },
      "source": [
        "First we convert it into index valued sequence"
      ]
    },
    {
      "cell_type": "code",
      "metadata": {
        "id": "h5JpXO84n9vH",
        "colab_type": "code",
        "colab": {}
      },
      "source": [
        "seq=[]\n",
        "for word in sentence.split():\n",
        "  if word in list(word2idx.keys()):\n",
        "    idx=word2idx[word]\n",
        "    seq.append(idx)"
      ],
      "execution_count": null,
      "outputs": []
    },
    {
      "cell_type": "markdown",
      "metadata": {
        "id": "QnNE1Tu2sKJA",
        "colab_type": "text"
      },
      "source": [
        "Pad it to the maximum length"
      ]
    },
    {
      "cell_type": "code",
      "metadata": {
        "id": "iQ7OJB5M8XGL",
        "colab_type": "code",
        "colab": {}
      },
      "source": [
        "pad_seq=pad_sequences([seq],padding='post',maxlen=50)"
      ],
      "execution_count": null,
      "outputs": []
    },
    {
      "cell_type": "markdown",
      "metadata": {
        "id": "PZZ4hmCNsNy-",
        "colab_type": "text"
      },
      "source": [
        "Do predictions"
      ]
    },
    {
      "cell_type": "code",
      "metadata": {
        "id": "i3-OOu9f_6mX",
        "colab_type": "code",
        "colab": {}
      },
      "source": [
        "p=model.predict(pad_seq)\n",
        "p=np.argmax(p,axis=-1) "
      ],
      "execution_count": null,
      "outputs": []
    },
    {
      "cell_type": "code",
      "metadata": {
        "id": "sgU5gaL8AvWn",
        "colab_type": "code",
        "colab": {
          "base_uri": "https://localhost:8080/",
          "height": 918
        },
        "outputId": "c1800a34-d623-4102-e0ab-5a4ee9835f9b"
      },
      "source": [
        "print(\"{:10}\\t {}\\n\".format(\"word\",\"pred\"))\n",
        "print(\"-\"*30)\n",
        "for w,pred in zip(pad_seq.tolist()[0],p[0]):\n",
        "  print(\"{:10}\\t{}\".format(words[w-1],tags[pred]))"
      ],
      "execution_count": null,
      "outputs": [
        {
          "output_type": "stream",
          "text": [
            "word      \t pred\n",
            "\n",
            "------------------------------\n",
            "About     \tO\n",
            "1,500     \tO\n",
            "doctors   \tO\n",
            ",         \tO\n",
            "scientists\tO\n",
            "and       \tO\n",
            "health    \tO\n",
            "workers   \tO\n",
            "are       \tO\n",
            "expected  \tO\n",
            "to        \tO\n",
            "attend    \tO\n",
            "the       \tO\n",
            "week-long \tB-tim\n",
            "Pan-Africa\tO\n",
            "malaria   \tO\n",
            "conference\tO\n",
            "in        \tO\n",
            "Cameroon  \tB-geo\n",
            "'s        \tO\n",
            "capital   \tO\n",
            ",         \tO\n",
            "Yaounde   \tO\n",
            "ENDPAD    \tO\n",
            "ENDPAD    \tO\n",
            "ENDPAD    \tO\n",
            "ENDPAD    \tO\n",
            "ENDPAD    \tO\n",
            "ENDPAD    \tO\n",
            "ENDPAD    \tO\n",
            "ENDPAD    \tO\n",
            "ENDPAD    \tO\n",
            "ENDPAD    \tO\n",
            "ENDPAD    \tO\n",
            "ENDPAD    \tO\n",
            "ENDPAD    \tO\n",
            "ENDPAD    \tI-org\n",
            "ENDPAD    \tI-org\n",
            "ENDPAD    \tI-org\n",
            "ENDPAD    \tI-org\n",
            "ENDPAD    \tI-org\n",
            "ENDPAD    \tI-org\n",
            "ENDPAD    \tI-org\n",
            "ENDPAD    \tI-org\n",
            "ENDPAD    \tI-org\n",
            "ENDPAD    \tI-org\n",
            "ENDPAD    \tI-org\n",
            "ENDPAD    \tI-org\n",
            "ENDPAD    \tI-org\n",
            "ENDPAD    \tI-org\n"
          ],
          "name": "stdout"
        }
      ]
    }
  ]
}